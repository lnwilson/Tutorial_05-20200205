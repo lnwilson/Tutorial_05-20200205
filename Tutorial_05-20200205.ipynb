{
 "cells": [
  {
   "cell_type": "markdown",
   "metadata": {
    "editable": false
   },
   "source": [
    "# Tutorial 5: Simple Probability #\n"
   ]
  },
  {
   "cell_type": "markdown",
   "metadata": {
    "editable": false
   },
   "source": [
    "## Objectives: ##\n",
    "To become familiar with using Code Cells to calculate simple probabilities.<br>To learn to use appropriate syntax to write the answers to probability questions."
   ]
  },
  {
   "cell_type": "markdown",
   "metadata": {
    "editable": false
   },
   "source": [
    "## Instructions: ##\n",
    "* read the question carefully \n",
    "* if calculations are required, use the code cell as a calculator<br>(During your lab exam at the end of the semester you will NOT be permitted to use a hand held calculator) \n",
    "* write the answer in the markdown cell, use complete sentences and when writing about the probability of events use the following format:\n",
    "<br>$P($event description$)$ or $P($event description$) = ...$ \n",
    "* if you used a formula then write it with the appropriate events in the markdown cell as part of your answer"
   ]
  },
  {
   "cell_type": "markdown",
   "metadata": {
    "editable": false
   },
   "source": [
    "## Formulae: ##\n",
    "* $P($event doesn't happen$) = 1 - P($event happens$)$\n",
    "* $P($event 1 OR event 2$) = P($event 1$) + P($event 2$) - P($event 1 AND event 2$)$\n",
    "* $P($event 1 AND event 2$) = P($event 1$) \\times P($event 2$|$event 1$) = P($event 2$) \\times P($event 1$|$event 2$)$\n",
    "* $P($event 1$|$event 2$) = P($event 1 AND event 2$) \\div P($event 2$)$\n",
    "\n",
    "### Recall: ### \n",
    "$0  \\le  P($event$)  \\le  1$\n",
    "\n",
    "### Disjoint ###\n",
    "If $P($event 1 AND event 2$)= 0$ then these are disjoint events, otherwise they are not disjoint events.\n",
    "  \n",
    "### Independent ###\n",
    "If $P($event 1 AND event 2$)= P($event 1$) \\times P($event 2$)$ or $P($event 1 $|$ event 2$)= P($event 1$)$ then these are independent events, otherwise they are dependent events. "
   ]
  },
  {
   "cell_type": "markdown",
   "metadata": {
    "editable": false
   },
   "source": [
    "## Tools: ##"
   ]
  },
  {
   "cell_type": "code",
   "execution_count": null,
   "metadata": {
    "editable": false
   },
   "outputs": [],
   "source": [
    "UWB <- read.csv(\"UWBClass.csv\",header=TRUE)"
   ]
  },
  {
   "cell_type": "markdown",
   "metadata": {
    "editable": false
   },
   "source": [
    "## Data Information: ##\n",
    "\n",
    "### Data Set: ###\n",
    "These data are the class information from an underwater basket weaving class that took place in 1984 at Sherwood Studios. These data are completly fake.\n",
    "#### Name: #### \n",
    "* `UWB` - [brief description]\n",
    "\n",
    "#### Variables: ####\n",
    "* `name` - names of students\n",
    "* `letter_grade` - letter grades of students\n",
    "  * levels: A, B, C, D, F\n",
    "* `study_group` - the study group joined by students\n",
    "  * levels: Blue_Blaze_Irregulars, Eighth_Dimension, Hong_Kong_Cavaliers, Ionized_Brain_Surgeons,<br>Lectroid, Making_Historians, Planet_Ten, World_Crime_League, Yoyodyne_Workers\n",
    "* `lab` - the lab number\n",
    "  * levels: 1, 2, 3, 4, 5"
   ]
  },
  {
   "cell_type": "markdown",
   "metadata": {
    "editable": false
   },
   "source": [
    "## Question 1. Get info about the data ##"
   ]
  },
  {
   "cell_type": "markdown",
   "metadata": {
    "editable": false
   },
   "source": [
    "* a. Make a contigency (frequency) table for lab and letter grade.\n",
    "* b. Make a contigency (frequency) table for study group and letter grade.\n",
    "* c. Make a contigency (frequency) table for study group and lab.\n",
    "* d. Determine the dimensions of the data set."
   ]
  },
  {
   "cell_type": "markdown",
   "metadata": {
    "editable": false
   },
   "source": [
    "### Answer 1.a. ###"
   ]
  },
  {
   "cell_type": "code",
   "execution_count": null,
   "metadata": {},
   "outputs": [],
   "source": [
    "Enter R code in this cell."
   ]
  },
  {
   "cell_type": "markdown",
   "metadata": {
    "editable": false
   },
   "source": [
    "### Answer 1.b. ###"
   ]
  },
  {
   "cell_type": "code",
   "execution_count": null,
   "metadata": {},
   "outputs": [],
   "source": [
    "Enter R code in this cell."
   ]
  },
  {
   "cell_type": "markdown",
   "metadata": {
    "editable": false
   },
   "source": [
    "### Answer 1.c. ###"
   ]
  },
  {
   "cell_type": "code",
   "execution_count": null,
   "metadata": {
    "scrolled": true
   },
   "outputs": [],
   "source": [
    "Enter R code in this cell."
   ]
  },
  {
   "cell_type": "markdown",
   "metadata": {
    "editable": false
   },
   "source": [
    "### Answer 1.d. ###"
   ]
  },
  {
   "cell_type": "code",
   "execution_count": null,
   "metadata": {},
   "outputs": [],
   "source": [
    "Enter R code in this cell."
   ]
  },
  {
   "cell_type": "markdown",
   "metadata": {
    "editable": false
   },
   "source": [
    "## Question 2. Calculate Probabilities using contigency tables ##"
   ]
  },
  {
   "cell_type": "markdown",
   "metadata": {
    "editable": false
   },
   "source": [
    "Use the tables you created in Question 1 to calculate the following proabilities.<br>\n",
    "Write the probabilities in the proper format. Eg: P( something ) = some numeric value\n",
    "* a. What is the probability that a randomly selected class member is a member of the Blue Blaze Irregulars?\n",
    "* b. What is the probability that a randomly selected class member is a member of the Hong Kong Cavaliers and earned an A in the course?\n",
    "* c. What is the probability that a randomly selected class member is a member of the World Crime League or the Hong Kong Cavaliers?\n",
    "* d. What is the probability that a randomly selected class member is a member of the Planet Ten or Lab 5?\n",
    "* e. What is the probability that a randomly selected member of the Ionized Brain Surgeons earned an B in the course?"
   ]
  },
  {
   "cell_type": "markdown",
   "metadata": {
    "editable": false
   },
   "source": [
    "### Answer 2.a. ###"
   ]
  },
  {
   "cell_type": "code",
   "execution_count": null,
   "metadata": {},
   "outputs": [],
   "source": [
    "Use this code cell as a calculator."
   ]
  },
  {
   "cell_type": "markdown",
   "metadata": {},
   "source": [
    "Type your answer to this question here as directed in the instructions."
   ]
  },
  {
   "cell_type": "markdown",
   "metadata": {
    "editable": false
   },
   "source": [
    "### Answer 2.b. ###"
   ]
  },
  {
   "cell_type": "code",
   "execution_count": null,
   "metadata": {},
   "outputs": [],
   "source": [
    "Use this code cell as a calculator."
   ]
  },
  {
   "cell_type": "markdown",
   "metadata": {},
   "source": [
    "Type your answer to this question here as directed in the instructions."
   ]
  },
  {
   "cell_type": "markdown",
   "metadata": {
    "editable": false
   },
   "source": [
    "### Answer 2.c. ###"
   ]
  },
  {
   "cell_type": "code",
   "execution_count": null,
   "metadata": {},
   "outputs": [],
   "source": [
    "Use this code cell as a calculator."
   ]
  },
  {
   "cell_type": "markdown",
   "metadata": {},
   "source": [
    "Type your answer to this question here as directed in the instructions."
   ]
  },
  {
   "cell_type": "markdown",
   "metadata": {
    "editable": false
   },
   "source": [
    "### Answer 2.d. ###"
   ]
  },
  {
   "cell_type": "code",
   "execution_count": null,
   "metadata": {},
   "outputs": [],
   "source": [
    "Use this code cell as a calculator."
   ]
  },
  {
   "cell_type": "markdown",
   "metadata": {},
   "source": [
    "Type your answer to this question here as directed in the instructions."
   ]
  },
  {
   "cell_type": "markdown",
   "metadata": {
    "editable": false
   },
   "source": [
    "### Answer 2.e. ###"
   ]
  },
  {
   "cell_type": "code",
   "execution_count": null,
   "metadata": {},
   "outputs": [],
   "source": [
    "Use this code cell as a calculator."
   ]
  },
  {
   "cell_type": "markdown",
   "metadata": {},
   "source": [
    "Type your answer to this question here as directed in the instructions."
   ]
  },
  {
   "cell_type": "markdown",
   "metadata": {
    "editable": false
   },
   "source": [
    "## Question 3. Disjoint vs. Not Disjoint Events ##"
   ]
  },
  {
   "cell_type": "markdown",
   "metadata": {
    "editable": false
   },
   "source": [
    "#### For each pair of events indicate whether they are disjoint events or not disjoint events. Explain how you know. ####\n",
    "* a. A randomly selected person is a member of the World Crime League.<br>A randomly selected person is a member of the Lectroids.\n",
    "* b. A randomly selected person is in lab 1.<br>A randomly selected person earned a C in the class.\n",
    "* c. A randomly selected person is in the Planet Ten study group.<br>A randomly selected person earned a D in the class."
   ]
  },
  {
   "cell_type": "markdown",
   "metadata": {
    "editable": false
   },
   "source": [
    "### Answer 3.a. ###"
   ]
  },
  {
   "cell_type": "code",
   "execution_count": null,
   "metadata": {},
   "outputs": [],
   "source": [
    "Use this code cell as a calculator."
   ]
  },
  {
   "cell_type": "markdown",
   "metadata": {},
   "source": [
    "Type your answer to this question here as directed in the instructions."
   ]
  },
  {
   "cell_type": "markdown",
   "metadata": {
    "editable": false
   },
   "source": [
    "### Answer 3.b. ###"
   ]
  },
  {
   "cell_type": "code",
   "execution_count": null,
   "metadata": {},
   "outputs": [],
   "source": [
    "Use this code cell as a calculator."
   ]
  },
  {
   "cell_type": "markdown",
   "metadata": {},
   "source": [
    "Type your answer to this question here as directed in the instructions."
   ]
  },
  {
   "cell_type": "markdown",
   "metadata": {
    "editable": false
   },
   "source": [
    "### Answer 3.c. ###"
   ]
  },
  {
   "cell_type": "code",
   "execution_count": null,
   "metadata": {},
   "outputs": [],
   "source": [
    "Use this code cell as a calculator."
   ]
  },
  {
   "cell_type": "markdown",
   "metadata": {},
   "source": [
    "Type your answer to this question here as directed in the instructions."
   ]
  },
  {
   "cell_type": "markdown",
   "metadata": {
    "editable": false
   },
   "source": [
    "## Question 4. Independent vs. Dependent events"
   ]
  },
  {
   "cell_type": "markdown",
   "metadata": {
    "editable": false
   },
   "source": [
    "#### For each pair of events indicate whether they are independent or dependent. Explain how you know. ####\n",
    "* a. A randomly selected person is a member of the Hong Kong Cavaliers.<br>A randomly selected person is in Lab 1\n",
    "* b. A randomly selected person is in lab 1.<br>A randomly selected person earned a A in the class.\n",
    "* c. A randomly selected person is in the Ionized Brain Surgeons study group.<br>A randomly selected person is in lab 5."
   ]
  },
  {
   "cell_type": "markdown",
   "metadata": {
    "editable": false
   },
   "source": [
    "### Answer 4.a. ###"
   ]
  },
  {
   "cell_type": "code",
   "execution_count": null,
   "metadata": {},
   "outputs": [],
   "source": [
    "Use this code cell as a calculator."
   ]
  },
  {
   "cell_type": "markdown",
   "metadata": {},
   "source": [
    "Type your answer to this question here as directed in the instructions."
   ]
  },
  {
   "cell_type": "markdown",
   "metadata": {
    "editable": false
   },
   "source": [
    "### Answer 4.b. ###"
   ]
  },
  {
   "cell_type": "code",
   "execution_count": null,
   "metadata": {},
   "outputs": [],
   "source": [
    "Use this code cell as a calculator."
   ]
  },
  {
   "cell_type": "markdown",
   "metadata": {},
   "source": [
    "Type your answer to this question here as directed in the instructions."
   ]
  },
  {
   "cell_type": "markdown",
   "metadata": {
    "editable": false
   },
   "source": [
    "### Answer 4. c. ###"
   ]
  },
  {
   "cell_type": "code",
   "execution_count": null,
   "metadata": {},
   "outputs": [],
   "source": [
    "Use this code cell as a calculator."
   ]
  },
  {
   "cell_type": "markdown",
   "metadata": {},
   "source": [
    "Type your answer to this question here as directed in the instructions."
   ]
  },
  {
   "cell_type": "markdown",
   "metadata": {
    "editable": false
   },
   "source": [
    "### Question 5 (Bonus): ###\n",
    "Bonus means answering these questions incorrectly will not count against you."
   ]
  },
  {
   "cell_type": "markdown",
   "metadata": {
    "editable": false
   },
   "source": [
    "#### Use the probability formulae given in the formulae section of this document to answer these questions. ####\n",
    "Suppose we know an experiment has several possible outcomes two of which have been labeled A and B but the page with the details about this experiment was dropped in a puddle and all we can read is the following information:<br> P(A) = 0.4<br>P(B|A) = 0.3<br>P(B) = 0.25.<br> Determine:\n",
    "* a. P(A AND B)\n",
    "* b. P(A OR B)\n",
    "* c. P(A|B)\n",
    "* d. Are these disjoint events? How do you know?\n",
    "* e. Are these independent events? How do you know?"
   ]
  },
  {
   "cell_type": "markdown",
   "metadata": {
    "editable": false
   },
   "source": [
    "### Answer 5.a. ###"
   ]
  },
  {
   "cell_type": "code",
   "execution_count": null,
   "metadata": {},
   "outputs": [],
   "source": [
    "Use this code cell as a calculator."
   ]
  },
  {
   "cell_type": "markdown",
   "metadata": {},
   "source": [
    "Type your answer to this question here as directed in the instructions."
   ]
  },
  {
   "cell_type": "markdown",
   "metadata": {
    "editable": false
   },
   "source": [
    "### Answer 5.b. ###"
   ]
  },
  {
   "cell_type": "code",
   "execution_count": null,
   "metadata": {},
   "outputs": [],
   "source": [
    "Use this code cell as a calculator."
   ]
  },
  {
   "cell_type": "markdown",
   "metadata": {},
   "source": [
    "Type your answer to this question here as directed in the instructions."
   ]
  },
  {
   "cell_type": "markdown",
   "metadata": {
    "editable": false
   },
   "source": [
    "### Answer 5.c. ###"
   ]
  },
  {
   "cell_type": "code",
   "execution_count": null,
   "metadata": {},
   "outputs": [],
   "source": [
    "Use this code cell as a calculator."
   ]
  },
  {
   "cell_type": "markdown",
   "metadata": {},
   "source": [
    "Type your answer to this question here as directed in the instructions."
   ]
  },
  {
   "cell_type": "markdown",
   "metadata": {
    "editable": false
   },
   "source": [
    "### Answer 5.d. ###"
   ]
  },
  {
   "cell_type": "markdown",
   "metadata": {},
   "source": [
    "Type your answer to this question here as directed in the instructions."
   ]
  },
  {
   "cell_type": "markdown",
   "metadata": {
    "editable": false
   },
   "source": [
    "### Answer 5.e. ###"
   ]
  },
  {
   "cell_type": "markdown",
   "metadata": {},
   "source": [
    "Type your answer to this question here as directed in the instructions."
   ]
  },
  {
   "cell_type": "markdown",
   "metadata": {
    "editable": false
   },
   "source": [
    "---\n",
    "---\n",
    "#### This tutorial is released under a Creative Commons Attribution-ShareAlike 3.0 Unported.\n",
    "\n",
    "This tutorial has been adapted from a lab that  was adapted for OpenIntro by Andrew Bray and Mine Çetinkaya-Rundel from a lab written by Mark Hansen of UCLA Statistics.\n",
    "\n",
    "---\n",
    "---"
   ]
  }
 ],
 "metadata": {
  "celltoolbar": "Edit Metadata",
  "kernelspec": {
   "display_name": "R",
   "language": "R",
   "name": "ir"
  },
  "language_info": {
   "codemirror_mode": "r",
   "file_extension": ".r",
   "mimetype": "text/x-r-source",
   "name": "R",
   "pygments_lexer": "r",
   "version": "3.6.1"
  }
 },
 "nbformat": 4,
 "nbformat_minor": 2
}
